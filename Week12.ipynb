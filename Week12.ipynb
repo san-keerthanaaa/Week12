{
  "nbformat": 4,
  "nbformat_minor": 0,
  "metadata": {
    "colab": {
      "provenance": []
    },
    "kernelspec": {
      "name": "python3",
      "display_name": "Python 3"
    },
    "language_info": {
      "name": "python"
    }
  },
  "cells": [
    {
      "cell_type": "code",
      "source": [
        "import numpy as np\n",
        "import time\n",
        "import pandas as pd\n",
        "from sklearn.model_selection import train_test_split\n",
        "from sklearn.metrics import log_loss\n",
        "from tensorflow.keras.models import Sequential\n",
        "from tensorflow.keras.layers import Dense\n",
        "from tensorflow.keras.optimizers import Adam\n",
        "from tensorflow.keras.losses import BinaryCrossentropy\n"
      ],
      "metadata": {
        "id": "KMhv9HsgmLr2"
      },
      "execution_count": 2,
      "outputs": []
    },
    {
      "cell_type": "code",
      "source": [
        "# Data generator\n",
        "def generate_data(n_samples, n_features=10):\n",
        "    X = np.random.normal(size=(n_samples, n_features))\n",
        "    coef = np.random.uniform(-1, 1, size=n_features)\n",
        "    logits = X @ coef\n",
        "    y = (logits > 0).astype(int)\n",
        "    return X, y"
      ],
      "metadata": {
        "id": "0iXmXkA2mRyx"
      },
      "execution_count": 3,
      "outputs": []
    },
    {
      "cell_type": "code",
      "source": [
        "\n",
        "# Define dataset sizes and architectures\n",
        "dataset_sizes = [1000, 10000, 100000]\n",
        "architectures = ['1-layer', '2-layer']\n",
        "results = []"
      ],
      "metadata": {
        "id": "7tm5a8mTmYj8"
      },
      "execution_count": 4,
      "outputs": []
    },
    {
      "cell_type": "code",
      "source": [
        "\n",
        "# Run experiments\n",
        "for size in dataset_sizes:\n",
        "    X, y = generate_data(size)\n",
        "    X_train, X_val, y_train, y_val = train_test_split(X, y, test_size=0.2, random_state=42)\n",
        "\n",
        "    for arch in architectures:\n",
        "        model = Sequential()\n",
        "        if arch == '1-layer':\n",
        "            model.add(Dense(4, activation='relu', input_shape=(X.shape[1],)))\n",
        "        elif arch == '2-layer':\n",
        "            model.add(Dense(4, activation='relu', input_shape=(X.shape[1],)))\n",
        "            model.add(Dense(4, activation='relu'))\n",
        "        model.add(Dense(1, activation='sigmoid'))\n",
        "\n",
        "        model.compile(optimizer=Adam(), loss=BinaryCrossentropy())\n",
        "\n",
        "        start_time = time.time()\n",
        "        history = model.fit(X_train, y_train, epochs=10, verbose=0)\n",
        "        elapsed_time = time.time() - start_time\n",
        "\n",
        "        train_preds = model.predict(X_train).flatten()\n",
        "        val_preds = model.predict(X_val).flatten()\n",
        "\n",
        "        train_error = log_loss(y_train, train_preds)\n",
        "        val_error = log_loss(y_val, val_preds)\n",
        "\n",
        "        results.append({\n",
        "            'Data Size': size,\n",
        "            'Configuration': arch,\n",
        "            'Training Error': round(train_error, 4),\n",
        "            'Validation Error': round(val_error, 4),\n",
        "            'Time (s)': round(elapsed_time, 2)\n",
        "        })\n",
        "\n",
        "# Show results\n",
        "df_dl_results = pd.DataFrame(results)\n",
        "print(df_dl_results)\n"
      ],
      "metadata": {
        "colab": {
          "base_uri": "https://localhost:8080/"
        },
        "id": "LMe8QQazmbmN",
        "outputId": "f0567797-bc35-47d8-eb9d-a325b67d112f"
      },
      "execution_count": 5,
      "outputs": [
        {
          "output_type": "stream",
          "name": "stderr",
          "text": [
            "/usr/local/lib/python3.11/dist-packages/keras/src/layers/core/dense.py:87: UserWarning: Do not pass an `input_shape`/`input_dim` argument to a layer. When using Sequential models, prefer using an `Input(shape)` object as the first layer in the model instead.\n",
            "  super().__init__(activity_regularizer=activity_regularizer, **kwargs)\n"
          ]
        },
        {
          "output_type": "stream",
          "name": "stdout",
          "text": [
            "\u001b[1m25/25\u001b[0m \u001b[32m━━━━━━━━━━━━━━━━━━━━\u001b[0m\u001b[37m\u001b[0m \u001b[1m0s\u001b[0m 4ms/step\n",
            "\u001b[1m7/7\u001b[0m \u001b[32m━━━━━━━━━━━━━━━━━━━━\u001b[0m\u001b[37m\u001b[0m \u001b[1m0s\u001b[0m 13ms/step\n"
          ]
        },
        {
          "output_type": "stream",
          "name": "stderr",
          "text": [
            "/usr/local/lib/python3.11/dist-packages/keras/src/layers/core/dense.py:87: UserWarning: Do not pass an `input_shape`/`input_dim` argument to a layer. When using Sequential models, prefer using an `Input(shape)` object as the first layer in the model instead.\n",
            "  super().__init__(activity_regularizer=activity_regularizer, **kwargs)\n"
          ]
        },
        {
          "output_type": "stream",
          "name": "stdout",
          "text": [
            "\u001b[1m25/25\u001b[0m \u001b[32m━━━━━━━━━━━━━━━━━━━━\u001b[0m\u001b[37m\u001b[0m \u001b[1m0s\u001b[0m 2ms/step \n",
            "\u001b[1m7/7\u001b[0m \u001b[32m━━━━━━━━━━━━━━━━━━━━\u001b[0m\u001b[37m\u001b[0m \u001b[1m0s\u001b[0m 10ms/step\n"
          ]
        },
        {
          "output_type": "stream",
          "name": "stderr",
          "text": [
            "/usr/local/lib/python3.11/dist-packages/keras/src/layers/core/dense.py:87: UserWarning: Do not pass an `input_shape`/`input_dim` argument to a layer. When using Sequential models, prefer using an `Input(shape)` object as the first layer in the model instead.\n",
            "  super().__init__(activity_regularizer=activity_regularizer, **kwargs)\n"
          ]
        },
        {
          "output_type": "stream",
          "name": "stdout",
          "text": [
            "\u001b[1m250/250\u001b[0m \u001b[32m━━━━━━━━━━━━━━━━━━━━\u001b[0m\u001b[37m\u001b[0m \u001b[1m0s\u001b[0m 1ms/step  \n",
            "\u001b[1m63/63\u001b[0m \u001b[32m━━━━━━━━━━━━━━━━━━━━\u001b[0m\u001b[37m\u001b[0m \u001b[1m0s\u001b[0m 2ms/step\n"
          ]
        },
        {
          "output_type": "stream",
          "name": "stderr",
          "text": [
            "/usr/local/lib/python3.11/dist-packages/keras/src/layers/core/dense.py:87: UserWarning: Do not pass an `input_shape`/`input_dim` argument to a layer. When using Sequential models, prefer using an `Input(shape)` object as the first layer in the model instead.\n",
            "  super().__init__(activity_regularizer=activity_regularizer, **kwargs)\n"
          ]
        },
        {
          "output_type": "stream",
          "name": "stdout",
          "text": [
            "\u001b[1m250/250\u001b[0m \u001b[32m━━━━━━━━━━━━━━━━━━━━\u001b[0m\u001b[37m\u001b[0m \u001b[1m0s\u001b[0m 1ms/step\n",
            "\u001b[1m63/63\u001b[0m \u001b[32m━━━━━━━━━━━━━━━━━━━━\u001b[0m\u001b[37m\u001b[0m \u001b[1m0s\u001b[0m 2ms/step\n"
          ]
        },
        {
          "output_type": "stream",
          "name": "stderr",
          "text": [
            "/usr/local/lib/python3.11/dist-packages/keras/src/layers/core/dense.py:87: UserWarning: Do not pass an `input_shape`/`input_dim` argument to a layer. When using Sequential models, prefer using an `Input(shape)` object as the first layer in the model instead.\n",
            "  super().__init__(activity_regularizer=activity_regularizer, **kwargs)\n"
          ]
        },
        {
          "output_type": "stream",
          "name": "stdout",
          "text": [
            "\u001b[1m2500/2500\u001b[0m \u001b[32m━━━━━━━━━━━━━━━━━━━━\u001b[0m\u001b[37m\u001b[0m \u001b[1m3s\u001b[0m 1ms/step\n",
            "\u001b[1m625/625\u001b[0m \u001b[32m━━━━━━━━━━━━━━━━━━━━\u001b[0m\u001b[37m\u001b[0m \u001b[1m1s\u001b[0m 1ms/step\n"
          ]
        },
        {
          "output_type": "stream",
          "name": "stderr",
          "text": [
            "/usr/local/lib/python3.11/dist-packages/keras/src/layers/core/dense.py:87: UserWarning: Do not pass an `input_shape`/`input_dim` argument to a layer. When using Sequential models, prefer using an `Input(shape)` object as the first layer in the model instead.\n",
            "  super().__init__(activity_regularizer=activity_regularizer, **kwargs)\n"
          ]
        },
        {
          "output_type": "stream",
          "name": "stdout",
          "text": [
            "\u001b[1m2500/2500\u001b[0m \u001b[32m━━━━━━━━━━━━━━━━━━━━\u001b[0m\u001b[37m\u001b[0m \u001b[1m3s\u001b[0m 1ms/step\n",
            "\u001b[1m625/625\u001b[0m \u001b[32m━━━━━━━━━━━━━━━━━━━━\u001b[0m\u001b[37m\u001b[0m \u001b[1m1s\u001b[0m 1ms/step\n",
            "   Data Size Configuration  Training Error  Validation Error  Time (s)\n",
            "0       1000       1-layer          0.6450            0.6363      4.11\n",
            "1       1000       2-layer          0.5723            0.5569      6.16\n",
            "2      10000       1-layer          0.0584            0.0533      6.38\n",
            "3      10000       2-layer          0.0271            0.0241      7.70\n",
            "4     100000       1-layer          0.0116            0.0120     45.10\n",
            "5     100000       2-layer          0.0064            0.0064     52.83\n"
          ]
        }
      ]
    },
    {
      "cell_type": "markdown",
      "source": [
        "As dataset size increased, both training and validation errors decreased substantially, indicating improved model generalization. Models with 2 hidden layers consistently outperformed those with 1 hidden layer, achieving lower errors across all dataset sizes. For example, at 100,000 observations, the 2-layer model achieved a validation error of 0.0064, compared to 0.0120 for the 1-layer model. While the 2-layer models required more training time, the gain in accuracy justifies the additional computation. Thus, the 2-layer architecture is superior, especially for larger datasets."
      ],
      "metadata": {
        "id": "vhccacRInYhh"
      }
    }
  ]
}
